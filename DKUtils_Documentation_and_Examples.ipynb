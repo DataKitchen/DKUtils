{
 "cells": [
  {
   "cell_type": "markdown",
   "metadata": {},
   "source": [
    "# DKUtils Documentation & Examples\n",
    "This notebook gives a brief introduction to DKUtils and several examples using the main client that this package provides, DataKitchenClient. Multiple other clients and convenience functions & classes are provided by this package as described in the formal documention.\n",
    "\n",
    "See the [DKUtils Documentation](https://datakitchen.github.io/DKUtils/) for a comprehensive overview of this [DKUtils Python Package](https://pypi.org/project/DKUtils/). Furthermore, the source code is publicly available on [GitHub DataKitchen/DKUtils](https://github.com/DataKitchen/DKUtils)."
   ]
  },
  {
   "cell_type": "markdown",
   "metadata": {},
   "source": [
    "## Install DKUtils\n",
    "Install the DKUtils package when you begin using it and anytime a newer version is available that you want to use."
   ]
  },
  {
   "cell_type": "code",
   "execution_count": null,
   "metadata": {
    "scrolled": true
   },
   "outputs": [],
   "source": [
    "!pip install -U dkutils"
   ]
  },
  {
   "cell_type": "markdown",
   "metadata": {},
   "source": [
    "## Imports and Global Variables\n",
    "There are two ways to create a DataKitchenClient instance. The first is via its constructor by explicitly passing in a username and password. This method is typically used in General Purpose Container (GPC) python scripts:\n",
    "```python\n",
    "CLIENT = DataKitchenClient(username, password)\n",
    "```\n",
    "The second uses a DK CLI context in your home directory (see [DKCloudCommand Documentation](https://docs.datakitchen.io/articles/#!datakitchen-help/dkcloudcommand) for more information about the DK CLI).  This method is typically used for local development since it is simpler. In this example, a context is provided, but if you omit the context name, the default is used:\n",
    "```python\n",
    "CLIENT = create_using_context(context='Implementation')\n",
    "```\n",
    "In both instances, kitchen, recipe, and variation variables are optional. If any of these variables will be constant across all of your API calls, it's recommended to set them when instantiating the client:\n",
    "```python\n",
    "CLIENT = DataKitchenClient(username, password, kitchen=KITCHEN, recipe=RECIPE, variation=VARIATION)\n",
    "CLIENT = create_using_context(context='Implementation', kitchen=KITCHEN, recipe=RECIPE, variation=VARIATION)\n",
    "```\n"
   ]
  },
  {
   "cell_type": "code",
   "execution_count": null,
   "metadata": {},
   "outputs": [],
   "source": [
    "import logging\n",
    "import json\n",
    "\n",
    "from datetime import datetime, timedelta\n",
    "from pprint import pformat\n",
    "from textwrap import indent\n",
    "\n",
    "from dkutils.constants import INACTIVE_ORDER_STATUS_TYPES\n",
    "from dkutils.datakitchen_api.datakitchen_client import DataKitchenClient, create_using_context\n",
    "\n",
    "LOGGER = logging.getLogger()\n",
    "LOGGER.addHandler(logging.StreamHandler())\n",
    "LOGGER.setLevel(logging.INFO)\n",
    "\n",
    "USERNAME = '[CHANGE_ME]'\n",
    "PASSWORD = '[CHANGE_ME]'\n",
    "CONTEXT  = '[CHANGE_ME]'\n",
    "\n",
    "INDENT    = '    '\n",
    "KITCHEN   = '[CHANGE_ME]'\n",
    "RECIPE    = '[CHANGE_ME]'\n",
    "VARIATION = '[CHANGE_ME]'\n",
    "\n",
    "USE_CONTEXT = True\n",
    "if USE_CONTEXT:\n",
    "    CLIENT = create_using_context(context=CONTEXT, kitchen=KITCHEN, recipe=RECIPE, variation=VARIATION)\n",
    "else:\n",
    "    CLIENT = DataKitchenClient(USERNAME, PASSWORD, kitchen=KITCHEN, recipe=RECIPE, variation=VARIATION)"
   ]
  },
  {
   "cell_type": "markdown",
   "metadata": {},
   "source": [
    "## Create an Order\n",
    "If you didn't specify the kitchen, recipe, and variation when creating the DataKitchen Client, then you must set them before invoking `create_order`. Since we didn't set these fields above, we'll do that first here. There are two ways to do so. Since these attributes are properties with setters, one way is the following:\n",
    "```python\n",
    "CLIENT.kitchen = KITCHEN\n",
    "CLIENT.recipe = RECIPE\n",
    "CLIENT.variation = VARIATION\n",
    "```\n",
    "However, the client employs a somewhat [fluent interface](https://en.wikipedia.org/wiki/Fluent_interface) allowing method chaining for convenience:\n",
    "```python\n",
    "response = CLIENT.set_kitchen(KITCHEN).set_recipe(RECIPE).set_variation(VARIATION).create_order()\n",
    "```\n",
    "\n",
    "After setting the kitchen, recipe, and variation, simply invoke the `create_order` method. If the order takes parameters, an optional dictionary of parameters may be provided:\n",
    "```python\n",
    "parameters = {\n",
    "    'parameter': 'value'\n",
    "}\n",
    "response = CLIENT.create_order(parameters=parameters)\n",
    "```\n",
    "If successful, the created order id is returned in the response and may be used to retrieve the order run id after it starts:\n",
    "```python\n",
    "order_id = response.json()['order_id']\n",
    "```"
   ]
  },
  {
   "cell_type": "code",
   "execution_count": null,
   "metadata": {},
   "outputs": [],
   "source": [
    "response = CLIENT.set_kitchen(KITCHEN).set_recipe(RECIPE).set_variation(VARIATION).create_order()\n",
    "order_id = response.json()['order_id']\n",
    "print(f'Created order id {order_id}')"
   ]
  },
  {
   "cell_type": "markdown",
   "metadata": {},
   "source": [
    "## Retrieve Order Runs\n",
    "Given an order id, retrieve the associated order runs. If an order was created as shown above, only a single order run should be retrieved. The order run id is captured in the `hid` field. If the order run has not yet started, the order runs array will be empty. Therefore, you will have to wait for the order run to start. Alternatively, there is a [create_and_monitor_orders](http://dkutils.dk.io/latest/docs/apidoc/dkutils.datakitchen_api.datakitchen_client.html#dkutils.datakitchen_api.datakitchen_client.DataKitchenClient.create_and_monitor_orders) method that can invoke multiple orders at once and wait for them all to finish. Please visit the provided link for details."
   ]
  },
  {
   "cell_type": "code",
   "execution_count": null,
   "metadata": {},
   "outputs": [],
   "source": [
    "order_runs = CLIENT.get_order_runs(order_id)\n",
    "print(f'Order runs: \\n{indent(pformat(order_runs), INDENT)}')\n",
    "\n",
    "order_run_id = order_runs[0]['hid']\n",
    "print(f'Order Run ID: {order_run_id}') "
   ]
  },
  {
   "cell_type": "markdown",
   "metadata": {},
   "source": [
    "## Retrieve Order Run Details"
   ]
  },
  {
   "cell_type": "code",
   "execution_count": null,
   "metadata": {},
   "outputs": [],
   "source": [
    "order_run_details = CLIENT.get_order_run_details(order_run_id)\n",
    "print(f'Order run details: \\n{indent(pformat(order_run_details), INDENT)}')"
   ]
  },
  {
   "cell_type": "markdown",
   "metadata": {},
   "source": [
    "## Retrieve Order Run Status"
   ]
  },
  {
   "cell_type": "code",
   "execution_count": null,
   "metadata": {},
   "outputs": [],
   "source": [
    "order_run_status = CLIENT.get_order_run_status(order_run_id)\n",
    "print(f'Order Run Status: {order_run_status}')"
   ]
  },
  {
   "cell_type": "markdown",
   "metadata": {},
   "source": [
    "## Retrieve Kitchen Level Overrides\n",
    "Retrieve all overrides for a kitchen."
   ]
  },
  {
   "cell_type": "code",
   "execution_count": null,
   "metadata": {},
   "outputs": [],
   "source": [
    "overrides = CLIENT.get_overrides()\n",
    "print(f'Overrides:\\n{indent(pformat(overrides), INDENT)}')"
   ]
  },
  {
   "cell_type": "markdown",
   "metadata": {},
   "source": [
    "## Compare Kitchen Level Overrides\n",
    "Compare kitchen overrides in your current kitchen with another kitchen. The `other` argument is optional - the default value is the parent kitchen."
   ]
  },
  {
   "cell_type": "code",
   "execution_count": null,
   "metadata": {},
   "outputs": [],
   "source": [
    "comparison = CLIENT.compare_overrides(other='IM_Production')\n",
    "print(comparison)"
   ]
  },
  {
   "cell_type": "markdown",
   "metadata": {},
   "source": [
    "## Add to Kitchen Staff\n",
    "Simple method to add staff to a kitchen. Please note, you cannot modify the staff of a kitchen you're not a member of."
   ]
  },
  {
   "cell_type": "code",
   "execution_count": null,
   "metadata": {},
   "outputs": [],
   "source": [
    "new_kitchen_staff = ['[CHANGE_ME]']\n",
    "CLIENT.set_kitchen(KITCHEN).add_kitchen_staff(new_kitchen_staff)"
   ]
  }
 ],
 "metadata": {
  "kernelspec": {
   "display_name": "Python 3",
   "language": "python",
   "name": "python3"
  },
  "language_info": {
   "codemirror_mode": {
    "name": "ipython",
    "version": 3
   },
   "file_extension": ".py",
   "mimetype": "text/x-python",
   "name": "python",
   "nbconvert_exporter": "python",
   "pygments_lexer": "ipython3",
   "version": "3.8.5"
  }
 },
 "nbformat": 4,
 "nbformat_minor": 2
}
